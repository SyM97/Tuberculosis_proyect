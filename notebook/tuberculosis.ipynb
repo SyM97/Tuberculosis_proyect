{
 "cells": [
  {
   "cell_type": "markdown",
   "metadata": {},
   "source": [
    "## Importar Librerías"
   ]
  },
  {
   "cell_type": "code",
   "execution_count": 34,
   "metadata": {},
   "outputs": [],
   "source": [
    "import pandas as pd\n",
    "import numpy as np\n",
    "import matplotlib.pyplot as plt\n",
    "import seaborn as sns\n",
    "\n",
    "from sklearn.preprocessing import OneHotEncoder, StandardScaler, OrdinalEncoder,LabelEncoder\n",
    "from sklearn.compose import ColumnTransformer\n",
    "from sklearn.model_selection import train_test_split\n",
    "from sklearn.metrics import accuracy_score, precision_score, recall_score, f1_score\n",
    "\n",
    "from sklearn.linear_model import LogisticRegression\n",
    "from sklearn.tree import DecisionTreeClassifier\n",
    "from sklearn.ensemble import RandomForestClassifier\n",
    "from sklearn.svm import SVC\n",
    "from sklearn.neighbors import KNeighborsClassifier\n",
    "from sklearn.naive_bayes import GaussianNB\n",
    "\n",
    "from sklearn.metrics import accuracy_score\n",
    "from sklearn.model_selection import GridSearchCV\n",
    "from sklearn.metrics import confusion_matrix, accuracy_score, classification_report\n",
    "\n",
    "from sklearn.preprocessing import StandardScaler\n",
    "import warnings\n",
    "warnings.filterwarnings(\"ignore\")"
   ]
  },
  {
   "cell_type": "markdown",
   "metadata": {},
   "source": [
    "## Cargar el Dataset"
   ]
  },
  {
   "cell_type": "code",
   "execution_count": 35,
   "metadata": {},
   "outputs": [],
   "source": [
    "df = pd.read_csv('C:/Users/mitev/Desktop/Prácticas/tuberculosis_proyect/dataset/tuberculosis_xray_dataset.csv')"
   ]
  },
  {
   "cell_type": "markdown",
   "metadata": {},
   "source": [
    "# EDA"
   ]
  },
  {
   "cell_type": "code",
   "execution_count": 36,
   "metadata": {},
   "outputs": [
    {
     "data": {
      "application/vnd.microsoft.datawrangler.viewer.v0+json": {
       "columns": [
        {
         "name": "index",
         "rawType": "int64",
         "type": "integer"
        },
        {
         "name": "Patient_ID",
         "rawType": "object",
         "type": "string"
        },
        {
         "name": "Age",
         "rawType": "int64",
         "type": "integer"
        },
        {
         "name": "Gender",
         "rawType": "object",
         "type": "string"
        },
        {
         "name": "Chest_Pain",
         "rawType": "object",
         "type": "string"
        },
        {
         "name": "Cough_Severity",
         "rawType": "int64",
         "type": "integer"
        },
        {
         "name": "Breathlessness",
         "rawType": "int64",
         "type": "integer"
        },
        {
         "name": "Fatigue",
         "rawType": "int64",
         "type": "integer"
        },
        {
         "name": "Weight_Loss",
         "rawType": "float64",
         "type": "float"
        },
        {
         "name": "Fever",
         "rawType": "object",
         "type": "string"
        },
        {
         "name": "Night_Sweats",
         "rawType": "object",
         "type": "string"
        },
        {
         "name": "Sputum_Production",
         "rawType": "object",
         "type": "string"
        },
        {
         "name": "Blood_in_Sputum",
         "rawType": "object",
         "type": "string"
        },
        {
         "name": "Smoking_History",
         "rawType": "object",
         "type": "string"
        },
        {
         "name": "Previous_TB_History",
         "rawType": "object",
         "type": "string"
        },
        {
         "name": "Class",
         "rawType": "object",
         "type": "string"
        }
       ],
       "conversionMethod": "pd.DataFrame",
       "ref": "8fd95e47-fc60-49f4-902a-90e423cebbc5",
       "rows": [
        [
         "0",
         "PID000001",
         "69",
         "Male",
         "Yes",
         "1",
         "2",
         "3",
         "2.37",
         "Moderate",
         "Yes",
         "Medium",
         "Yes",
         "Former",
         "Yes",
         "Normal"
        ],
        [
         "1",
         "PID000002",
         "32",
         "Female",
         "Yes",
         "3",
         "0",
         "9",
         "6.09",
         "Moderate",
         "No",
         "Medium",
         "No",
         "Current",
         "Yes",
         "Normal"
        ],
        [
         "2",
         "PID000003",
         "89",
         "Male",
         "No",
         "7",
         "0",
         "3",
         "2.86",
         "Mild",
         "Yes",
         "Medium",
         "No",
         "Current",
         "No",
         "Tuberculosis"
        ],
        [
         "3",
         "PID000004",
         "78",
         "Female",
         "Yes",
         "2",
         "0",
         "6",
         "4.57",
         "Moderate",
         "No",
         "High",
         "Yes",
         "Never",
         "Yes",
         "Tuberculosis"
        ],
        [
         "4",
         "PID000005",
         "38",
         "Male",
         "No",
         "7",
         "2",
         "5",
         "13.86",
         "High",
         "Yes",
         "Low",
         "No",
         "Never",
         "Yes",
         "Tuberculosis"
        ]
       ],
       "shape": {
        "columns": 15,
        "rows": 5
       }
      },
      "text/html": [
       "<div>\n",
       "<style scoped>\n",
       "    .dataframe tbody tr th:only-of-type {\n",
       "        vertical-align: middle;\n",
       "    }\n",
       "\n",
       "    .dataframe tbody tr th {\n",
       "        vertical-align: top;\n",
       "    }\n",
       "\n",
       "    .dataframe thead th {\n",
       "        text-align: right;\n",
       "    }\n",
       "</style>\n",
       "<table border=\"1\" class=\"dataframe\">\n",
       "  <thead>\n",
       "    <tr style=\"text-align: right;\">\n",
       "      <th></th>\n",
       "      <th>Patient_ID</th>\n",
       "      <th>Age</th>\n",
       "      <th>Gender</th>\n",
       "      <th>Chest_Pain</th>\n",
       "      <th>Cough_Severity</th>\n",
       "      <th>Breathlessness</th>\n",
       "      <th>Fatigue</th>\n",
       "      <th>Weight_Loss</th>\n",
       "      <th>Fever</th>\n",
       "      <th>Night_Sweats</th>\n",
       "      <th>Sputum_Production</th>\n",
       "      <th>Blood_in_Sputum</th>\n",
       "      <th>Smoking_History</th>\n",
       "      <th>Previous_TB_History</th>\n",
       "      <th>Class</th>\n",
       "    </tr>\n",
       "  </thead>\n",
       "  <tbody>\n",
       "    <tr>\n",
       "      <th>0</th>\n",
       "      <td>PID000001</td>\n",
       "      <td>69</td>\n",
       "      <td>Male</td>\n",
       "      <td>Yes</td>\n",
       "      <td>1</td>\n",
       "      <td>2</td>\n",
       "      <td>3</td>\n",
       "      <td>2.37</td>\n",
       "      <td>Moderate</td>\n",
       "      <td>Yes</td>\n",
       "      <td>Medium</td>\n",
       "      <td>Yes</td>\n",
       "      <td>Former</td>\n",
       "      <td>Yes</td>\n",
       "      <td>Normal</td>\n",
       "    </tr>\n",
       "    <tr>\n",
       "      <th>1</th>\n",
       "      <td>PID000002</td>\n",
       "      <td>32</td>\n",
       "      <td>Female</td>\n",
       "      <td>Yes</td>\n",
       "      <td>3</td>\n",
       "      <td>0</td>\n",
       "      <td>9</td>\n",
       "      <td>6.09</td>\n",
       "      <td>Moderate</td>\n",
       "      <td>No</td>\n",
       "      <td>Medium</td>\n",
       "      <td>No</td>\n",
       "      <td>Current</td>\n",
       "      <td>Yes</td>\n",
       "      <td>Normal</td>\n",
       "    </tr>\n",
       "    <tr>\n",
       "      <th>2</th>\n",
       "      <td>PID000003</td>\n",
       "      <td>89</td>\n",
       "      <td>Male</td>\n",
       "      <td>No</td>\n",
       "      <td>7</td>\n",
       "      <td>0</td>\n",
       "      <td>3</td>\n",
       "      <td>2.86</td>\n",
       "      <td>Mild</td>\n",
       "      <td>Yes</td>\n",
       "      <td>Medium</td>\n",
       "      <td>No</td>\n",
       "      <td>Current</td>\n",
       "      <td>No</td>\n",
       "      <td>Tuberculosis</td>\n",
       "    </tr>\n",
       "    <tr>\n",
       "      <th>3</th>\n",
       "      <td>PID000004</td>\n",
       "      <td>78</td>\n",
       "      <td>Female</td>\n",
       "      <td>Yes</td>\n",
       "      <td>2</td>\n",
       "      <td>0</td>\n",
       "      <td>6</td>\n",
       "      <td>4.57</td>\n",
       "      <td>Moderate</td>\n",
       "      <td>No</td>\n",
       "      <td>High</td>\n",
       "      <td>Yes</td>\n",
       "      <td>Never</td>\n",
       "      <td>Yes</td>\n",
       "      <td>Tuberculosis</td>\n",
       "    </tr>\n",
       "    <tr>\n",
       "      <th>4</th>\n",
       "      <td>PID000005</td>\n",
       "      <td>38</td>\n",
       "      <td>Male</td>\n",
       "      <td>No</td>\n",
       "      <td>7</td>\n",
       "      <td>2</td>\n",
       "      <td>5</td>\n",
       "      <td>13.86</td>\n",
       "      <td>High</td>\n",
       "      <td>Yes</td>\n",
       "      <td>Low</td>\n",
       "      <td>No</td>\n",
       "      <td>Never</td>\n",
       "      <td>Yes</td>\n",
       "      <td>Tuberculosis</td>\n",
       "    </tr>\n",
       "  </tbody>\n",
       "</table>\n",
       "</div>"
      ],
      "text/plain": [
       "  Patient_ID  Age  Gender Chest_Pain  Cough_Severity  Breathlessness  Fatigue  \\\n",
       "0  PID000001   69    Male        Yes               1               2        3   \n",
       "1  PID000002   32  Female        Yes               3               0        9   \n",
       "2  PID000003   89    Male         No               7               0        3   \n",
       "3  PID000004   78  Female        Yes               2               0        6   \n",
       "4  PID000005   38    Male         No               7               2        5   \n",
       "\n",
       "   Weight_Loss     Fever Night_Sweats Sputum_Production Blood_in_Sputum  \\\n",
       "0         2.37  Moderate          Yes            Medium             Yes   \n",
       "1         6.09  Moderate           No            Medium              No   \n",
       "2         2.86      Mild          Yes            Medium              No   \n",
       "3         4.57  Moderate           No              High             Yes   \n",
       "4        13.86      High          Yes               Low              No   \n",
       "\n",
       "  Smoking_History Previous_TB_History         Class  \n",
       "0          Former                 Yes        Normal  \n",
       "1         Current                 Yes        Normal  \n",
       "2         Current                  No  Tuberculosis  \n",
       "3           Never                 Yes  Tuberculosis  \n",
       "4           Never                 Yes  Tuberculosis  "
      ]
     },
     "execution_count": 36,
     "metadata": {},
     "output_type": "execute_result"
    }
   ],
   "source": [
    "df.head()"
   ]
  },
  {
   "cell_type": "code",
   "execution_count": 37,
   "metadata": {},
   "outputs": [
    {
     "name": "stdout",
     "output_type": "stream",
     "text": [
      "<class 'pandas.core.frame.DataFrame'>\n",
      "RangeIndex: 20000 entries, 0 to 19999\n",
      "Data columns (total 15 columns):\n",
      " #   Column               Non-Null Count  Dtype  \n",
      "---  ------               --------------  -----  \n",
      " 0   Patient_ID           20000 non-null  object \n",
      " 1   Age                  20000 non-null  int64  \n",
      " 2   Gender               20000 non-null  object \n",
      " 3   Chest_Pain           20000 non-null  object \n",
      " 4   Cough_Severity       20000 non-null  int64  \n",
      " 5   Breathlessness       20000 non-null  int64  \n",
      " 6   Fatigue              20000 non-null  int64  \n",
      " 7   Weight_Loss          20000 non-null  float64\n",
      " 8   Fever                20000 non-null  object \n",
      " 9   Night_Sweats         20000 non-null  object \n",
      " 10  Sputum_Production    20000 non-null  object \n",
      " 11  Blood_in_Sputum      20000 non-null  object \n",
      " 12  Smoking_History      20000 non-null  object \n",
      " 13  Previous_TB_History  20000 non-null  object \n",
      " 14  Class                20000 non-null  object \n",
      "dtypes: float64(1), int64(4), object(10)\n",
      "memory usage: 2.3+ MB\n"
     ]
    }
   ],
   "source": [
    "df.info()"
   ]
  },
  {
   "cell_type": "code",
   "execution_count": 38,
   "metadata": {},
   "outputs": [
    {
     "data": {
      "application/vnd.microsoft.datawrangler.viewer.v0+json": {
       "columns": [
        {
         "name": "index",
         "rawType": "object",
         "type": "string"
        },
        {
         "name": "count",
         "rawType": "float64",
         "type": "float"
        },
        {
         "name": "mean",
         "rawType": "float64",
         "type": "float"
        },
        {
         "name": "std",
         "rawType": "float64",
         "type": "float"
        },
        {
         "name": "min",
         "rawType": "float64",
         "type": "float"
        },
        {
         "name": "25%",
         "rawType": "float64",
         "type": "float"
        },
        {
         "name": "50%",
         "rawType": "float64",
         "type": "float"
        },
        {
         "name": "75%",
         "rawType": "float64",
         "type": "float"
        },
        {
         "name": "max",
         "rawType": "float64",
         "type": "float"
        }
       ],
       "conversionMethod": "pd.DataFrame",
       "ref": "a7ed4bbc-2774-41a0-9ae4-4c8308fdd6c8",
       "rows": [
        [
         "Age",
         "20000.0",
         "53.46745",
         "20.773984172960684",
         "18.0",
         "35.0",
         "53.0",
         "71.0",
         "89.0"
        ],
        [
         "Cough_Severity",
         "20000.0",
         "4.49135",
         "2.8647225885372327",
         "0.0",
         "2.0",
         "4.0",
         "7.0",
         "9.0"
        ],
        [
         "Breathlessness",
         "20000.0",
         "2.00345",
         "1.417123321883269",
         "0.0",
         "1.0",
         "2.0",
         "3.0",
         "4.0"
        ],
        [
         "Fatigue",
         "20000.0",
         "4.50845",
         "2.8815523185755683",
         "0.0",
         "2.0",
         "5.0",
         "7.0",
         "9.0"
        ],
        [
         "Weight_Loss",
         "20000.0",
         "7.455280500000001",
         "4.339863961264208",
         "0.0",
         "3.64",
         "7.49",
         "11.2",
         "15.0"
        ]
       ],
       "shape": {
        "columns": 8,
        "rows": 5
       }
      },
      "text/html": [
       "<div>\n",
       "<style scoped>\n",
       "    .dataframe tbody tr th:only-of-type {\n",
       "        vertical-align: middle;\n",
       "    }\n",
       "\n",
       "    .dataframe tbody tr th {\n",
       "        vertical-align: top;\n",
       "    }\n",
       "\n",
       "    .dataframe thead th {\n",
       "        text-align: right;\n",
       "    }\n",
       "</style>\n",
       "<table border=\"1\" class=\"dataframe\">\n",
       "  <thead>\n",
       "    <tr style=\"text-align: right;\">\n",
       "      <th></th>\n",
       "      <th>count</th>\n",
       "      <th>mean</th>\n",
       "      <th>std</th>\n",
       "      <th>min</th>\n",
       "      <th>25%</th>\n",
       "      <th>50%</th>\n",
       "      <th>75%</th>\n",
       "      <th>max</th>\n",
       "    </tr>\n",
       "  </thead>\n",
       "  <tbody>\n",
       "    <tr>\n",
       "      <th>Age</th>\n",
       "      <td>20000.0</td>\n",
       "      <td>53.467450</td>\n",
       "      <td>20.773984</td>\n",
       "      <td>18.0</td>\n",
       "      <td>35.00</td>\n",
       "      <td>53.00</td>\n",
       "      <td>71.0</td>\n",
       "      <td>89.0</td>\n",
       "    </tr>\n",
       "    <tr>\n",
       "      <th>Cough_Severity</th>\n",
       "      <td>20000.0</td>\n",
       "      <td>4.491350</td>\n",
       "      <td>2.864723</td>\n",
       "      <td>0.0</td>\n",
       "      <td>2.00</td>\n",
       "      <td>4.00</td>\n",
       "      <td>7.0</td>\n",
       "      <td>9.0</td>\n",
       "    </tr>\n",
       "    <tr>\n",
       "      <th>Breathlessness</th>\n",
       "      <td>20000.0</td>\n",
       "      <td>2.003450</td>\n",
       "      <td>1.417123</td>\n",
       "      <td>0.0</td>\n",
       "      <td>1.00</td>\n",
       "      <td>2.00</td>\n",
       "      <td>3.0</td>\n",
       "      <td>4.0</td>\n",
       "    </tr>\n",
       "    <tr>\n",
       "      <th>Fatigue</th>\n",
       "      <td>20000.0</td>\n",
       "      <td>4.508450</td>\n",
       "      <td>2.881552</td>\n",
       "      <td>0.0</td>\n",
       "      <td>2.00</td>\n",
       "      <td>5.00</td>\n",
       "      <td>7.0</td>\n",
       "      <td>9.0</td>\n",
       "    </tr>\n",
       "    <tr>\n",
       "      <th>Weight_Loss</th>\n",
       "      <td>20000.0</td>\n",
       "      <td>7.455281</td>\n",
       "      <td>4.339864</td>\n",
       "      <td>0.0</td>\n",
       "      <td>3.64</td>\n",
       "      <td>7.49</td>\n",
       "      <td>11.2</td>\n",
       "      <td>15.0</td>\n",
       "    </tr>\n",
       "  </tbody>\n",
       "</table>\n",
       "</div>"
      ],
      "text/plain": [
       "                  count       mean        std   min    25%    50%   75%   max\n",
       "Age             20000.0  53.467450  20.773984  18.0  35.00  53.00  71.0  89.0\n",
       "Cough_Severity  20000.0   4.491350   2.864723   0.0   2.00   4.00   7.0   9.0\n",
       "Breathlessness  20000.0   2.003450   1.417123   0.0   1.00   2.00   3.0   4.0\n",
       "Fatigue         20000.0   4.508450   2.881552   0.0   2.00   5.00   7.0   9.0\n",
       "Weight_Loss     20000.0   7.455281   4.339864   0.0   3.64   7.49  11.2  15.0"
      ]
     },
     "execution_count": 38,
     "metadata": {},
     "output_type": "execute_result"
    }
   ],
   "source": [
    "df.describe().T"
   ]
  },
  {
   "cell_type": "code",
   "execution_count": 39,
   "metadata": {},
   "outputs": [
    {
     "data": {
      "application/vnd.microsoft.datawrangler.viewer.v0+json": {
       "columns": [
        {
         "name": "index",
         "rawType": "object",
         "type": "string"
        },
        {
         "name": "count",
         "rawType": "object",
         "type": "unknown"
        },
        {
         "name": "unique",
         "rawType": "object",
         "type": "unknown"
        },
        {
         "name": "top",
         "rawType": "object",
         "type": "string"
        },
        {
         "name": "freq",
         "rawType": "object",
         "type": "unknown"
        }
       ],
       "conversionMethod": "pd.DataFrame",
       "ref": "e324ec7c-c6e5-437c-b1c5-5f2eb72ef66d",
       "rows": [
        [
         "Patient_ID",
         "20000",
         "20000",
         "PID019984",
         "1"
        ],
        [
         "Gender",
         "20000",
         "2",
         "Male",
         "10171"
        ],
        [
         "Chest_Pain",
         "20000",
         "2",
         "No",
         "10205"
        ],
        [
         "Fever",
         "20000",
         "3",
         "Moderate",
         "6713"
        ],
        [
         "Night_Sweats",
         "20000",
         "2",
         "No",
         "10044"
        ],
        [
         "Sputum_Production",
         "20000",
         "3",
         "Medium",
         "6709"
        ],
        [
         "Blood_in_Sputum",
         "20000",
         "2",
         "No",
         "10075"
        ],
        [
         "Smoking_History",
         "20000",
         "3",
         "Former",
         "6791"
        ],
        [
         "Previous_TB_History",
         "20000",
         "2",
         "Yes",
         "10067"
        ],
        [
         "Class",
         "20000",
         "2",
         "Normal",
         "14082"
        ]
       ],
       "shape": {
        "columns": 4,
        "rows": 10
       }
      },
      "text/html": [
       "<div>\n",
       "<style scoped>\n",
       "    .dataframe tbody tr th:only-of-type {\n",
       "        vertical-align: middle;\n",
       "    }\n",
       "\n",
       "    .dataframe tbody tr th {\n",
       "        vertical-align: top;\n",
       "    }\n",
       "\n",
       "    .dataframe thead th {\n",
       "        text-align: right;\n",
       "    }\n",
       "</style>\n",
       "<table border=\"1\" class=\"dataframe\">\n",
       "  <thead>\n",
       "    <tr style=\"text-align: right;\">\n",
       "      <th></th>\n",
       "      <th>count</th>\n",
       "      <th>unique</th>\n",
       "      <th>top</th>\n",
       "      <th>freq</th>\n",
       "    </tr>\n",
       "  </thead>\n",
       "  <tbody>\n",
       "    <tr>\n",
       "      <th>Patient_ID</th>\n",
       "      <td>20000</td>\n",
       "      <td>20000</td>\n",
       "      <td>PID019984</td>\n",
       "      <td>1</td>\n",
       "    </tr>\n",
       "    <tr>\n",
       "      <th>Gender</th>\n",
       "      <td>20000</td>\n",
       "      <td>2</td>\n",
       "      <td>Male</td>\n",
       "      <td>10171</td>\n",
       "    </tr>\n",
       "    <tr>\n",
       "      <th>Chest_Pain</th>\n",
       "      <td>20000</td>\n",
       "      <td>2</td>\n",
       "      <td>No</td>\n",
       "      <td>10205</td>\n",
       "    </tr>\n",
       "    <tr>\n",
       "      <th>Fever</th>\n",
       "      <td>20000</td>\n",
       "      <td>3</td>\n",
       "      <td>Moderate</td>\n",
       "      <td>6713</td>\n",
       "    </tr>\n",
       "    <tr>\n",
       "      <th>Night_Sweats</th>\n",
       "      <td>20000</td>\n",
       "      <td>2</td>\n",
       "      <td>No</td>\n",
       "      <td>10044</td>\n",
       "    </tr>\n",
       "    <tr>\n",
       "      <th>Sputum_Production</th>\n",
       "      <td>20000</td>\n",
       "      <td>3</td>\n",
       "      <td>Medium</td>\n",
       "      <td>6709</td>\n",
       "    </tr>\n",
       "    <tr>\n",
       "      <th>Blood_in_Sputum</th>\n",
       "      <td>20000</td>\n",
       "      <td>2</td>\n",
       "      <td>No</td>\n",
       "      <td>10075</td>\n",
       "    </tr>\n",
       "    <tr>\n",
       "      <th>Smoking_History</th>\n",
       "      <td>20000</td>\n",
       "      <td>3</td>\n",
       "      <td>Former</td>\n",
       "      <td>6791</td>\n",
       "    </tr>\n",
       "    <tr>\n",
       "      <th>Previous_TB_History</th>\n",
       "      <td>20000</td>\n",
       "      <td>2</td>\n",
       "      <td>Yes</td>\n",
       "      <td>10067</td>\n",
       "    </tr>\n",
       "    <tr>\n",
       "      <th>Class</th>\n",
       "      <td>20000</td>\n",
       "      <td>2</td>\n",
       "      <td>Normal</td>\n",
       "      <td>14082</td>\n",
       "    </tr>\n",
       "  </tbody>\n",
       "</table>\n",
       "</div>"
      ],
      "text/plain": [
       "                     count unique        top   freq\n",
       "Patient_ID           20000  20000  PID019984      1\n",
       "Gender               20000      2       Male  10171\n",
       "Chest_Pain           20000      2         No  10205\n",
       "Fever                20000      3   Moderate   6713\n",
       "Night_Sweats         20000      2         No  10044\n",
       "Sputum_Production    20000      3     Medium   6709\n",
       "Blood_in_Sputum      20000      2         No  10075\n",
       "Smoking_History      20000      3     Former   6791\n",
       "Previous_TB_History  20000      2        Yes  10067\n",
       "Class                20000      2     Normal  14082"
      ]
     },
     "execution_count": 39,
     "metadata": {},
     "output_type": "execute_result"
    }
   ],
   "source": [
    "df.describe(include=['object']).T"
   ]
  },
  {
   "cell_type": "code",
   "execution_count": 40,
   "metadata": {},
   "outputs": [
    {
     "data": {
      "text/plain": [
       "Patient_ID             0\n",
       "Age                    0\n",
       "Gender                 0\n",
       "Chest_Pain             0\n",
       "Cough_Severity         0\n",
       "Breathlessness         0\n",
       "Fatigue                0\n",
       "Weight_Loss            0\n",
       "Fever                  0\n",
       "Night_Sweats           0\n",
       "Sputum_Production      0\n",
       "Blood_in_Sputum        0\n",
       "Smoking_History        0\n",
       "Previous_TB_History    0\n",
       "Class                  0\n",
       "dtype: int64"
      ]
     },
     "execution_count": 40,
     "metadata": {},
     "output_type": "execute_result"
    }
   ],
   "source": [
    "df.isnull().sum()"
   ]
  },
  {
   "cell_type": "code",
   "execution_count": 41,
   "metadata": {},
   "outputs": [
    {
     "data": {
      "application/vnd.microsoft.datawrangler.viewer.v0+json": {
       "columns": [
        {
         "name": "Class",
         "rawType": "object",
         "type": "string"
        },
        {
         "name": "Age",
         "rawType": "float64",
         "type": "float"
        },
        {
         "name": "Cough_Severity",
         "rawType": "float64",
         "type": "float"
        },
        {
         "name": "Breathlessness",
         "rawType": "float64",
         "type": "float"
        },
        {
         "name": "Fatigue",
         "rawType": "float64",
         "type": "float"
        },
        {
         "name": "Weight_Loss",
         "rawType": "float64",
         "type": "float"
        }
       ],
       "conversionMethod": "pd.DataFrame",
       "ref": "6f1d581b-54d6-4556-ba0b-8aba36114647",
       "rows": [
        [
         "Normal",
         "53.403351796619795",
         "4.489277091322255",
         "1.9994318988780002",
         "4.523860247123988",
         "7.450925294702457"
        ],
        [
         "Tuberculosis",
         "53.61997296383913",
         "4.496282527881041",
         "2.013011152416357",
         "4.471781007096992",
         "7.465643798580602"
        ]
       ],
       "shape": {
        "columns": 5,
        "rows": 2
       }
      },
      "text/html": [
       "<div>\n",
       "<style scoped>\n",
       "    .dataframe tbody tr th:only-of-type {\n",
       "        vertical-align: middle;\n",
       "    }\n",
       "\n",
       "    .dataframe tbody tr th {\n",
       "        vertical-align: top;\n",
       "    }\n",
       "\n",
       "    .dataframe thead th {\n",
       "        text-align: right;\n",
       "    }\n",
       "</style>\n",
       "<table border=\"1\" class=\"dataframe\">\n",
       "  <thead>\n",
       "    <tr style=\"text-align: right;\">\n",
       "      <th></th>\n",
       "      <th>Age</th>\n",
       "      <th>Cough_Severity</th>\n",
       "      <th>Breathlessness</th>\n",
       "      <th>Fatigue</th>\n",
       "      <th>Weight_Loss</th>\n",
       "    </tr>\n",
       "    <tr>\n",
       "      <th>Class</th>\n",
       "      <th></th>\n",
       "      <th></th>\n",
       "      <th></th>\n",
       "      <th></th>\n",
       "      <th></th>\n",
       "    </tr>\n",
       "  </thead>\n",
       "  <tbody>\n",
       "    <tr>\n",
       "      <th>Normal</th>\n",
       "      <td>53.403352</td>\n",
       "      <td>4.489277</td>\n",
       "      <td>1.999432</td>\n",
       "      <td>4.523860</td>\n",
       "      <td>7.450925</td>\n",
       "    </tr>\n",
       "    <tr>\n",
       "      <th>Tuberculosis</th>\n",
       "      <td>53.619973</td>\n",
       "      <td>4.496283</td>\n",
       "      <td>2.013011</td>\n",
       "      <td>4.471781</td>\n",
       "      <td>7.465644</td>\n",
       "    </tr>\n",
       "  </tbody>\n",
       "</table>\n",
       "</div>"
      ],
      "text/plain": [
       "                    Age  Cough_Severity  Breathlessness   Fatigue  Weight_Loss\n",
       "Class                                                                         \n",
       "Normal        53.403352        4.489277        1.999432  4.523860     7.450925\n",
       "Tuberculosis  53.619973        4.496283        2.013011  4.471781     7.465644"
      ]
     },
     "execution_count": 41,
     "metadata": {},
     "output_type": "execute_result"
    }
   ],
   "source": [
    "# Promedios de síntomas por clase\n",
    "df.groupby(\"Class\")[[\"Age\", \"Cough_Severity\", \"Breathlessness\", \"Fatigue\", \"Weight_Loss\"]].mean()"
   ]
  },
  {
   "cell_type": "code",
   "execution_count": 42,
   "metadata": {},
   "outputs": [
    {
     "data": {
      "application/vnd.microsoft.datawrangler.viewer.v0+json": {
       "columns": [
        {
         "name": "Gender",
         "rawType": "object",
         "type": "string"
        },
        {
         "name": "Normal",
         "rawType": "int64",
         "type": "integer"
        },
        {
         "name": "Tuberculosis",
         "rawType": "int64",
         "type": "integer"
        }
       ],
       "conversionMethod": "pd.DataFrame",
       "ref": "ba3f5c24-a1e4-401e-aef7-7bb097286375",
       "rows": [
        [
         "Female",
         "6877",
         "2952"
        ],
        [
         "Male",
         "7205",
         "2966"
        ]
       ],
       "shape": {
        "columns": 2,
        "rows": 2
       }
      },
      "text/html": [
       "<div>\n",
       "<style scoped>\n",
       "    .dataframe tbody tr th:only-of-type {\n",
       "        vertical-align: middle;\n",
       "    }\n",
       "\n",
       "    .dataframe tbody tr th {\n",
       "        vertical-align: top;\n",
       "    }\n",
       "\n",
       "    .dataframe thead th {\n",
       "        text-align: right;\n",
       "    }\n",
       "</style>\n",
       "<table border=\"1\" class=\"dataframe\">\n",
       "  <thead>\n",
       "    <tr style=\"text-align: right;\">\n",
       "      <th>Class</th>\n",
       "      <th>Normal</th>\n",
       "      <th>Tuberculosis</th>\n",
       "    </tr>\n",
       "    <tr>\n",
       "      <th>Gender</th>\n",
       "      <th></th>\n",
       "      <th></th>\n",
       "    </tr>\n",
       "  </thead>\n",
       "  <tbody>\n",
       "    <tr>\n",
       "      <th>Female</th>\n",
       "      <td>6877</td>\n",
       "      <td>2952</td>\n",
       "    </tr>\n",
       "    <tr>\n",
       "      <th>Male</th>\n",
       "      <td>7205</td>\n",
       "      <td>2966</td>\n",
       "    </tr>\n",
       "  </tbody>\n",
       "</table>\n",
       "</div>"
      ],
      "text/plain": [
       "Class   Normal  Tuberculosis\n",
       "Gender                      \n",
       "Female    6877          2952\n",
       "Male      7205          2966"
      ]
     },
     "execution_count": 42,
     "metadata": {},
     "output_type": "execute_result"
    }
   ],
   "source": [
    "# Conteo de casos por género y clase\n",
    "df.groupby([\"Gender\", \"Class\"]).size().unstack()"
   ]
  },
  {
   "cell_type": "code",
   "execution_count": 43,
   "metadata": {},
   "outputs": [
    {
     "data": {
      "application/vnd.microsoft.datawrangler.viewer.v0+json": {
       "columns": [
        {
         "name": "Smoking_History",
         "rawType": "object",
         "type": "string"
        },
        {
         "name": "Normal",
         "rawType": "int64",
         "type": "integer"
        },
        {
         "name": "Tuberculosis",
         "rawType": "int64",
         "type": "integer"
        }
       ],
       "conversionMethod": "pd.DataFrame",
       "ref": "c9b3640b-ddc5-4bc8-b704-4967829d6247",
       "rows": [
        [
         "Current",
         "4674",
         "1919"
        ],
        [
         "Former",
         "4751",
         "2040"
        ],
        [
         "Never",
         "4657",
         "1959"
        ]
       ],
       "shape": {
        "columns": 2,
        "rows": 3
       }
      },
      "text/html": [
       "<div>\n",
       "<style scoped>\n",
       "    .dataframe tbody tr th:only-of-type {\n",
       "        vertical-align: middle;\n",
       "    }\n",
       "\n",
       "    .dataframe tbody tr th {\n",
       "        vertical-align: top;\n",
       "    }\n",
       "\n",
       "    .dataframe thead th {\n",
       "        text-align: right;\n",
       "    }\n",
       "</style>\n",
       "<table border=\"1\" class=\"dataframe\">\n",
       "  <thead>\n",
       "    <tr style=\"text-align: right;\">\n",
       "      <th>Class</th>\n",
       "      <th>Normal</th>\n",
       "      <th>Tuberculosis</th>\n",
       "    </tr>\n",
       "    <tr>\n",
       "      <th>Smoking_History</th>\n",
       "      <th></th>\n",
       "      <th></th>\n",
       "    </tr>\n",
       "  </thead>\n",
       "  <tbody>\n",
       "    <tr>\n",
       "      <th>Current</th>\n",
       "      <td>4674</td>\n",
       "      <td>1919</td>\n",
       "    </tr>\n",
       "    <tr>\n",
       "      <th>Former</th>\n",
       "      <td>4751</td>\n",
       "      <td>2040</td>\n",
       "    </tr>\n",
       "    <tr>\n",
       "      <th>Never</th>\n",
       "      <td>4657</td>\n",
       "      <td>1959</td>\n",
       "    </tr>\n",
       "  </tbody>\n",
       "</table>\n",
       "</div>"
      ],
      "text/plain": [
       "Class            Normal  Tuberculosis\n",
       "Smoking_History                      \n",
       "Current            4674          1919\n",
       "Former             4751          2040\n",
       "Never              4657          1959"
      ]
     },
     "execution_count": 43,
     "metadata": {},
     "output_type": "execute_result"
    }
   ],
   "source": [
    "# Distribución de clase según tabaquismo\n",
    "df.groupby([\"Smoking_History\", \"Class\"]).size().unstack()"
   ]
  },
  {
   "cell_type": "code",
   "execution_count": 44,
   "metadata": {},
   "outputs": [
    {
     "data": {
      "application/vnd.microsoft.datawrangler.viewer.v0+json": {
       "columns": [
        {
         "name": "Smoking_History",
         "rawType": "object",
         "type": "string"
        },
        {
         "name": "Cough_Severity",
         "rawType": "float64",
         "type": "float"
        },
        {
         "name": "Breathlessness",
         "rawType": "float64",
         "type": "float"
        },
        {
         "name": "Fatigue",
         "rawType": "float64",
         "type": "float"
        }
       ],
       "conversionMethod": "pd.DataFrame",
       "ref": "e4736ff1-024b-4076-aff0-81a4929b8338",
       "rows": [
        [
         "Current",
         "4.502654330350372",
         "1.9899893826785986",
         "4.496435613529501"
        ],
        [
         "Former",
         "4.474156972463555",
         "2.026505669268149",
         "4.500368134295391"
        ],
        [
         "Never",
         "4.49773276904474",
         "1.99319830713422",
         "4.528718258766626"
        ]
       ],
       "shape": {
        "columns": 3,
        "rows": 3
       }
      },
      "text/html": [
       "<div>\n",
       "<style scoped>\n",
       "    .dataframe tbody tr th:only-of-type {\n",
       "        vertical-align: middle;\n",
       "    }\n",
       "\n",
       "    .dataframe tbody tr th {\n",
       "        vertical-align: top;\n",
       "    }\n",
       "\n",
       "    .dataframe thead th {\n",
       "        text-align: right;\n",
       "    }\n",
       "</style>\n",
       "<table border=\"1\" class=\"dataframe\">\n",
       "  <thead>\n",
       "    <tr style=\"text-align: right;\">\n",
       "      <th></th>\n",
       "      <th>Cough_Severity</th>\n",
       "      <th>Breathlessness</th>\n",
       "      <th>Fatigue</th>\n",
       "    </tr>\n",
       "    <tr>\n",
       "      <th>Smoking_History</th>\n",
       "      <th></th>\n",
       "      <th></th>\n",
       "      <th></th>\n",
       "    </tr>\n",
       "  </thead>\n",
       "  <tbody>\n",
       "    <tr>\n",
       "      <th>Current</th>\n",
       "      <td>4.502654</td>\n",
       "      <td>1.989989</td>\n",
       "      <td>4.496436</td>\n",
       "    </tr>\n",
       "    <tr>\n",
       "      <th>Former</th>\n",
       "      <td>4.474157</td>\n",
       "      <td>2.026506</td>\n",
       "      <td>4.500368</td>\n",
       "    </tr>\n",
       "    <tr>\n",
       "      <th>Never</th>\n",
       "      <td>4.497733</td>\n",
       "      <td>1.993198</td>\n",
       "      <td>4.528718</td>\n",
       "    </tr>\n",
       "  </tbody>\n",
       "</table>\n",
       "</div>"
      ],
      "text/plain": [
       "                 Cough_Severity  Breathlessness   Fatigue\n",
       "Smoking_History                                          \n",
       "Current                4.502654        1.989989  4.496436\n",
       "Former                 4.474157        2.026506  4.500368\n",
       "Never                  4.497733        1.993198  4.528718"
      ]
     },
     "execution_count": 44,
     "metadata": {},
     "output_type": "execute_result"
    }
   ],
   "source": [
    "# Promedios de síntomas según tabaquismo\n",
    "df.groupby(\"Smoking_History\")[[\"Cough_Severity\", \"Breathlessness\", \"Fatigue\"]].mean()"
   ]
  },
  {
   "cell_type": "code",
   "execution_count": 45,
   "metadata": {},
   "outputs": [
    {
     "name": "stdout",
     "output_type": "stream",
     "text": [
      "\n",
      "--- Chest_Pain ---\n",
      "Class       Normal  Tuberculosis\n",
      "Chest_Pain                      \n",
      "No            7232          2973\n",
      "Yes           6850          2945\n",
      "\n",
      "--- Fever ---\n",
      "Class     Normal  Tuberculosis\n",
      "Fever                         \n",
      "High        4624          1962\n",
      "Mild        4663          2038\n",
      "Moderate    4795          1918\n",
      "\n",
      "--- Night_Sweats ---\n",
      "Class         Normal  Tuberculosis\n",
      "Night_Sweats                      \n",
      "No              7097          2947\n",
      "Yes             6985          2971\n",
      "\n",
      "--- Blood_in_Sputum ---\n",
      "Class            Normal  Tuberculosis\n",
      "Blood_in_Sputum                      \n",
      "No                 7080          2995\n",
      "Yes                7002          2923\n"
     ]
    }
   ],
   "source": [
    "# Relación entre síntomas y clase (por ejemplo, dolor en el pecho)\n",
    "symptoms = [\"Chest_Pain\", \"Fever\", \"Night_Sweats\", \"Blood_in_Sputum\"]\n",
    "\n",
    "for symptom in symptoms:\n",
    "    print(f\"\\n--- {symptom} ---\")\n",
    "    print(df.groupby([symptom, \"Class\"]).size().unstack())"
   ]
  },
  {
   "cell_type": "code",
   "execution_count": 46,
   "metadata": {},
   "outputs": [
    {
     "data": {
      "application/vnd.microsoft.datawrangler.viewer.v0+json": {
       "columns": [
        {
         "name": "Previous_TB_History",
         "rawType": "object",
         "type": "string"
        },
        {
         "name": "Normal",
         "rawType": "int64",
         "type": "integer"
        },
        {
         "name": "Tuberculosis",
         "rawType": "int64",
         "type": "integer"
        }
       ],
       "conversionMethod": "pd.DataFrame",
       "ref": "b8c317a3-e3e4-4dd3-8c1a-f9aa1043b1fa",
       "rows": [
        [
         "No",
         "6991",
         "2942"
        ],
        [
         "Yes",
         "7091",
         "2976"
        ]
       ],
       "shape": {
        "columns": 2,
        "rows": 2
       }
      },
      "text/html": [
       "<div>\n",
       "<style scoped>\n",
       "    .dataframe tbody tr th:only-of-type {\n",
       "        vertical-align: middle;\n",
       "    }\n",
       "\n",
       "    .dataframe tbody tr th {\n",
       "        vertical-align: top;\n",
       "    }\n",
       "\n",
       "    .dataframe thead th {\n",
       "        text-align: right;\n",
       "    }\n",
       "</style>\n",
       "<table border=\"1\" class=\"dataframe\">\n",
       "  <thead>\n",
       "    <tr style=\"text-align: right;\">\n",
       "      <th>Class</th>\n",
       "      <th>Normal</th>\n",
       "      <th>Tuberculosis</th>\n",
       "    </tr>\n",
       "    <tr>\n",
       "      <th>Previous_TB_History</th>\n",
       "      <th></th>\n",
       "      <th></th>\n",
       "    </tr>\n",
       "  </thead>\n",
       "  <tbody>\n",
       "    <tr>\n",
       "      <th>No</th>\n",
       "      <td>6991</td>\n",
       "      <td>2942</td>\n",
       "    </tr>\n",
       "    <tr>\n",
       "      <th>Yes</th>\n",
       "      <td>7091</td>\n",
       "      <td>2976</td>\n",
       "    </tr>\n",
       "  </tbody>\n",
       "</table>\n",
       "</div>"
      ],
      "text/plain": [
       "Class                Normal  Tuberculosis\n",
       "Previous_TB_History                      \n",
       "No                     6991          2942\n",
       "Yes                    7091          2976"
      ]
     },
     "execution_count": 46,
     "metadata": {},
     "output_type": "execute_result"
    }
   ],
   "source": [
    "# Relación entre historial previo y diagnóstico actual\n",
    "df.groupby([\"Previous_TB_History\", \"Class\"]).size().unstack()"
   ]
  },
  {
   "cell_type": "code",
   "execution_count": 47,
   "metadata": {},
   "outputs": [
    {
     "data": {
      "text/plain": [
       "Fever\n",
       "Moderate    6713\n",
       "Mild        6701\n",
       "High        6586\n",
       "Name: count, dtype: int64"
      ]
     },
     "execution_count": 47,
     "metadata": {},
     "output_type": "execute_result"
    }
   ],
   "source": [
    "df['Fever'].value_counts()"
   ]
  },
  {
   "cell_type": "code",
   "execution_count": 48,
   "metadata": {},
   "outputs": [
    {
     "data": {
      "text/plain": [
       "Smoking_History\n",
       "Former     6791\n",
       "Never      6616\n",
       "Current    6593\n",
       "Name: count, dtype: int64"
      ]
     },
     "execution_count": 48,
     "metadata": {},
     "output_type": "execute_result"
    }
   ],
   "source": [
    "df['Smoking_History'].value_counts()"
   ]
  },
  {
   "cell_type": "code",
   "execution_count": 49,
   "metadata": {},
   "outputs": [
    {
     "data": {
      "text/plain": [
       "Age\n",
       "34    331\n",
       "32    318\n",
       "65    313\n",
       "38    309\n",
       "30    306\n",
       "     ... \n",
       "58    254\n",
       "52    252\n",
       "22    252\n",
       "60    249\n",
       "28    233\n",
       "Name: count, Length: 72, dtype: int64"
      ]
     },
     "execution_count": 49,
     "metadata": {},
     "output_type": "execute_result"
    }
   ],
   "source": [
    "df['Age'].value_counts()"
   ]
  },
  {
   "cell_type": "code",
   "execution_count": 50,
   "metadata": {},
   "outputs": [
    {
     "data": {
      "application/vnd.microsoft.datawrangler.viewer.v0+json": {
       "columns": [
        {
         "name": "index",
         "rawType": "int64",
         "type": "integer"
        },
        {
         "name": "Patient_ID",
         "rawType": "object",
         "type": "string"
        },
        {
         "name": "Age",
         "rawType": "int64",
         "type": "integer"
        },
        {
         "name": "Gender",
         "rawType": "object",
         "type": "string"
        },
        {
         "name": "Chest_Pain",
         "rawType": "object",
         "type": "string"
        },
        {
         "name": "Cough_Severity",
         "rawType": "int64",
         "type": "integer"
        },
        {
         "name": "Breathlessness",
         "rawType": "int64",
         "type": "integer"
        },
        {
         "name": "Fatigue",
         "rawType": "int64",
         "type": "integer"
        },
        {
         "name": "Weight_Loss",
         "rawType": "float64",
         "type": "float"
        },
        {
         "name": "Fever",
         "rawType": "object",
         "type": "string"
        },
        {
         "name": "Night_Sweats",
         "rawType": "object",
         "type": "string"
        },
        {
         "name": "Sputum_Production",
         "rawType": "object",
         "type": "string"
        },
        {
         "name": "Blood_in_Sputum",
         "rawType": "object",
         "type": "string"
        },
        {
         "name": "Smoking_History",
         "rawType": "object",
         "type": "string"
        },
        {
         "name": "Previous_TB_History",
         "rawType": "object",
         "type": "string"
        },
        {
         "name": "Class",
         "rawType": "object",
         "type": "string"
        }
       ],
       "conversionMethod": "pd.DataFrame",
       "ref": "26ffc275-4649-4471-88a5-ff953ff52bc0",
       "rows": [],
       "shape": {
        "columns": 15,
        "rows": 0
       }
      },
      "text/html": [
       "<div>\n",
       "<style scoped>\n",
       "    .dataframe tbody tr th:only-of-type {\n",
       "        vertical-align: middle;\n",
       "    }\n",
       "\n",
       "    .dataframe tbody tr th {\n",
       "        vertical-align: top;\n",
       "    }\n",
       "\n",
       "    .dataframe thead th {\n",
       "        text-align: right;\n",
       "    }\n",
       "</style>\n",
       "<table border=\"1\" class=\"dataframe\">\n",
       "  <thead>\n",
       "    <tr style=\"text-align: right;\">\n",
       "      <th></th>\n",
       "      <th>Patient_ID</th>\n",
       "      <th>Age</th>\n",
       "      <th>Gender</th>\n",
       "      <th>Chest_Pain</th>\n",
       "      <th>Cough_Severity</th>\n",
       "      <th>Breathlessness</th>\n",
       "      <th>Fatigue</th>\n",
       "      <th>Weight_Loss</th>\n",
       "      <th>Fever</th>\n",
       "      <th>Night_Sweats</th>\n",
       "      <th>Sputum_Production</th>\n",
       "      <th>Blood_in_Sputum</th>\n",
       "      <th>Smoking_History</th>\n",
       "      <th>Previous_TB_History</th>\n",
       "      <th>Class</th>\n",
       "    </tr>\n",
       "  </thead>\n",
       "  <tbody>\n",
       "  </tbody>\n",
       "</table>\n",
       "</div>"
      ],
      "text/plain": [
       "Empty DataFrame\n",
       "Columns: [Patient_ID, Age, Gender, Chest_Pain, Cough_Severity, Breathlessness, Fatigue, Weight_Loss, Fever, Night_Sweats, Sputum_Production, Blood_in_Sputum, Smoking_History, Previous_TB_History, Class]\n",
       "Index: []"
      ]
     },
     "execution_count": 50,
     "metadata": {},
     "output_type": "execute_result"
    }
   ],
   "source": [
    "df[df.duplicated()]"
   ]
  },
  {
   "cell_type": "code",
   "execution_count": 51,
   "metadata": {},
   "outputs": [
    {
     "data": {
      "image/png": "[encoded data removed]",
      "text/plain": [
       "<Figure size 600x400 with 1 Axes>"
      ]
     },
     "metadata": {},
     "output_type": "display_data"
    }
   ],
   "source": [
    "plt.style.use('default')\n",
    "\n",
    "# Clase: Normal o Tuberculosis\n",
    "plt.figure(figsize=(6, 4))\n",
    "df['Class'].value_counts().plot(kind='bar')\n",
    "plt.title('Distribución de Casos de Tuberculosis')\n",
    "plt.xlabel('Clase')\n",
    "plt.ylabel('Cantidad de Pacientes')\n",
    "plt.xticks(rotation=0)\n",
    "plt.tight_layout()\n",
    "plt.show()"
   ]
  },
  {
   "cell_type": "code",
   "execution_count": 52,
   "metadata": {},
   "outputs": [
    {
     "data": {
      "image/png": "[encoded data removed]",
      "text/plain": [
       "<Figure size 1000x800 with 2 Axes>"
      ]
     },
     "metadata": {},
     "output_type": "display_data"
    }
   ],
   "source": [
    "# Mapa de Correlación\n",
    "plt.figure(figsize=(10, 8))\n",
    "sns.heatmap(df.corr(numeric_only=True), annot=True, cmap='coolwarm', fmt=\".2f\")\n",
    "plt.title('Mapa de Calor de Correlación')\n",
    "plt.tight_layout()\n",
    "plt.show()"
   ]
  },
  {
   "cell_type": "markdown",
   "metadata": {},
   "source": [
    "## Data Preprocessing"
   ]
  },
  {
   "cell_type": "code",
   "execution_count": 53,
   "metadata": {},
   "outputs": [
    {
     "data": {
      "application/vnd.microsoft.datawrangler.viewer.v0+json": {
       "columns": [
        {
         "name": "index",
         "rawType": "int64",
         "type": "integer"
        },
        {
         "name": "Patient_ID",
         "rawType": "object",
         "type": "string"
        },
        {
         "name": "Gender",
         "rawType": "object",
         "type": "string"
        },
        {
         "name": "Chest_Pain",
         "rawType": "object",
         "type": "string"
        },
        {
         "name": "Fever",
         "rawType": "object",
         "type": "string"
        },
        {
         "name": "Night_Sweats",
         "rawType": "object",
         "type": "string"
        },
        {
         "name": "Sputum_Production",
         "rawType": "object",
         "type": "string"
        },
        {
         "name": "Blood_in_Sputum",
         "rawType": "object",
         "type": "string"
        },
        {
         "name": "Smoking_History",
         "rawType": "object",
         "type": "string"
        },
        {
         "name": "Previous_TB_History",
         "rawType": "object",
         "type": "string"
        },
        {
         "name": "Class",
         "rawType": "object",
         "type": "string"
        }
       ],
       "conversionMethod": "pd.DataFrame",
       "ref": "06049319-2a65-438d-b04f-5f03edc4a4b8",
       "rows": [
        [
         "0",
         "PID000001",
         "Male",
         "Yes",
         "Moderate",
         "Yes",
         "Medium",
         "Yes",
         "Former",
         "Yes",
         "Normal"
        ],
        [
         "1",
         "PID000002",
         "Female",
         "Yes",
         "Moderate",
         "No",
         "Medium",
         "No",
         "Current",
         "Yes",
         "Normal"
        ],
        [
         "2",
         "PID000003",
         "Male",
         "No",
         "Mild",
         "Yes",
         "Medium",
         "No",
         "Current",
         "No",
         "Tuberculosis"
        ],
        [
         "3",
         "PID000004",
         "Female",
         "Yes",
         "Moderate",
         "No",
         "High",
         "Yes",
         "Never",
         "Yes",
         "Tuberculosis"
        ],
        [
         "4",
         "PID000005",
         "Male",
         "No",
         "High",
         "Yes",
         "Low",
         "No",
         "Never",
         "Yes",
         "Tuberculosis"
        ]
       ],
       "shape": {
        "columns": 10,
        "rows": 5
       }
      },
      "text/html": [
       "<div>\n",
       "<style scoped>\n",
       "    .dataframe tbody tr th:only-of-type {\n",
       "        vertical-align: middle;\n",
       "    }\n",
       "\n",
       "    .dataframe tbody tr th {\n",
       "        vertical-align: top;\n",
       "    }\n",
       "\n",
       "    .dataframe thead th {\n",
       "        text-align: right;\n",
       "    }\n",
       "</style>\n",
       "<table border=\"1\" class=\"dataframe\">\n",
       "  <thead>\n",
       "    <tr style=\"text-align: right;\">\n",
       "      <th></th>\n",
       "      <th>Patient_ID</th>\n",
       "      <th>Gender</th>\n",
       "      <th>Chest_Pain</th>\n",
       "      <th>Fever</th>\n",
       "      <th>Night_Sweats</th>\n",
       "      <th>Sputum_Production</th>\n",
       "      <th>Blood_in_Sputum</th>\n",
       "      <th>Smoking_History</th>\n",
       "      <th>Previous_TB_History</th>\n",
       "      <th>Class</th>\n",
       "    </tr>\n",
       "  </thead>\n",
       "  <tbody>\n",
       "    <tr>\n",
       "      <th>0</th>\n",
       "      <td>PID000001</td>\n",
       "      <td>Male</td>\n",
       "      <td>Yes</td>\n",
       "      <td>Moderate</td>\n",
       "      <td>Yes</td>\n",
       "      <td>Medium</td>\n",
       "      <td>Yes</td>\n",
       "      <td>Former</td>\n",
       "      <td>Yes</td>\n",
       "      <td>Normal</td>\n",
       "    </tr>\n",
       "    <tr>\n",
       "      <th>1</th>\n",
       "      <td>PID000002</td>\n",
       "      <td>Female</td>\n",
       "      <td>Yes</td>\n",
       "      <td>Moderate</td>\n",
       "      <td>No</td>\n",
       "      <td>Medium</td>\n",
       "      <td>No</td>\n",
       "      <td>Current</td>\n",
       "      <td>Yes</td>\n",
       "      <td>Normal</td>\n",
       "    </tr>\n",
       "    <tr>\n",
       "      <th>2</th>\n",
       "      <td>PID000003</td>\n",
       "      <td>Male</td>\n",
       "      <td>No</td>\n",
       "      <td>Mild</td>\n",
       "      <td>Yes</td>\n",
       "      <td>Medium</td>\n",
       "      <td>No</td>\n",
       "      <td>Current</td>\n",
       "      <td>No</td>\n",
       "      <td>Tuberculosis</td>\n",
       "    </tr>\n",
       "    <tr>\n",
       "      <th>3</th>\n",
       "      <td>PID000004</td>\n",
       "      <td>Female</td>\n",
       "      <td>Yes</td>\n",
       "      <td>Moderate</td>\n",
       "      <td>No</td>\n",
       "      <td>High</td>\n",
       "      <td>Yes</td>\n",
       "      <td>Never</td>\n",
       "      <td>Yes</td>\n",
       "      <td>Tuberculosis</td>\n",
       "    </tr>\n",
       "    <tr>\n",
       "      <th>4</th>\n",
       "      <td>PID000005</td>\n",
       "      <td>Male</td>\n",
       "      <td>No</td>\n",
       "      <td>High</td>\n",
       "      <td>Yes</td>\n",
       "      <td>Low</td>\n",
       "      <td>No</td>\n",
       "      <td>Never</td>\n",
       "      <td>Yes</td>\n",
       "      <td>Tuberculosis</td>\n",
       "    </tr>\n",
       "  </tbody>\n",
       "</table>\n",
       "</div>"
      ],
      "text/plain": [
       "  Patient_ID  Gender Chest_Pain     Fever Night_Sweats Sputum_Production  \\\n",
       "0  PID000001    Male        Yes  Moderate          Yes            Medium   \n",
       "1  PID000002  Female        Yes  Moderate           No            Medium   \n",
       "2  PID000003    Male         No      Mild          Yes            Medium   \n",
       "3  PID000004  Female        Yes  Moderate           No              High   \n",
       "4  PID000005    Male         No      High          Yes               Low   \n",
       "\n",
       "  Blood_in_Sputum Smoking_History Previous_TB_History         Class  \n",
       "0             Yes          Former                 Yes        Normal  \n",
       "1              No         Current                 Yes        Normal  \n",
       "2              No         Current                  No  Tuberculosis  \n",
       "3             Yes           Never                 Yes  Tuberculosis  \n",
       "4              No           Never                 Yes  Tuberculosis  "
      ]
     },
     "execution_count": 53,
     "metadata": {},
     "output_type": "execute_result"
    }
   ],
   "source": [
    "df.select_dtypes('object').head()"
   ]
  },
  {
   "cell_type": "code",
   "execution_count": 54,
   "metadata": {},
   "outputs": [
    {
     "data": {
      "application/vnd.microsoft.datawrangler.viewer.v0+json": {
       "columns": [
        {
         "name": "index",
         "rawType": "int64",
         "type": "integer"
        },
        {
         "name": "Age",
         "rawType": "int64",
         "type": "integer"
        },
        {
         "name": "Gender",
         "rawType": "object",
         "type": "string"
        },
        {
         "name": "Chest_Pain",
         "rawType": "object",
         "type": "string"
        },
        {
         "name": "Cough_Severity",
         "rawType": "int64",
         "type": "integer"
        },
        {
         "name": "Breathlessness",
         "rawType": "int64",
         "type": "integer"
        },
        {
         "name": "Fatigue",
         "rawType": "int64",
         "type": "integer"
        },
        {
         "name": "Weight_Loss",
         "rawType": "float64",
         "type": "float"
        },
        {
         "name": "Fever",
         "rawType": "object",
         "type": "string"
        },
        {
         "name": "Night_Sweats",
         "rawType": "object",
         "type": "string"
        },
        {
         "name": "Sputum_Production",
         "rawType": "object",
         "type": "string"
        },
        {
         "name": "Blood_in_Sputum",
         "rawType": "object",
         "type": "string"
        },
        {
         "name": "Smoking_History",
         "rawType": "object",
         "type": "string"
        },
        {
         "name": "Previous_TB_History",
         "rawType": "object",
         "type": "string"
        },
        {
         "name": "Class",
         "rawType": "object",
         "type": "string"
        }
       ],
       "conversionMethod": "pd.DataFrame",
       "ref": "fa856da0-7755-4fbb-aff5-3f2a32b8d533",
       "rows": [
        [
         "0",
         "69",
         "Male",
         "Yes",
         "1",
         "2",
         "3",
         "2.37",
         "Moderate",
         "Yes",
         "Medium",
         "Yes",
         "Former",
         "Yes",
         "Normal"
        ],
        [
         "1",
         "32",
         "Female",
         "Yes",
         "3",
         "0",
         "9",
         "6.09",
         "Moderate",
         "No",
         "Medium",
         "No",
         "Current",
         "Yes",
         "Normal"
        ],
        [
         "2",
         "89",
         "Male",
         "No",
         "7",
         "0",
         "3",
         "2.86",
         "Mild",
         "Yes",
         "Medium",
         "No",
         "Current",
         "No",
         "Tuberculosis"
        ],
        [
         "3",
         "78",
         "Female",
         "Yes",
         "2",
         "0",
         "6",
         "4.57",
         "Moderate",
         "No",
         "High",
         "Yes",
         "Never",
         "Yes",
         "Tuberculosis"
        ],
        [
         "4",
         "38",
         "Male",
         "No",
         "7",
         "2",
         "5",
         "13.86",
         "High",
         "Yes",
         "Low",
         "No",
         "Never",
         "Yes",
         "Tuberculosis"
        ]
       ],
       "shape": {
        "columns": 14,
        "rows": 5
       }
      },
      "text/html": [
       "<div>\n",
       "<style scoped>\n",
       "    .dataframe tbody tr th:only-of-type {\n",
       "        vertical-align: middle;\n",
       "    }\n",
       "\n",
       "    .dataframe tbody tr th {\n",
       "        vertical-align: top;\n",
       "    }\n",
       "\n",
       "    .dataframe thead th {\n",
       "        text-align: right;\n",
       "    }\n",
       "</style>\n",
       "<table border=\"1\" class=\"dataframe\">\n",
       "  <thead>\n",
       "    <tr style=\"text-align: right;\">\n",
       "      <th></th>\n",
       "      <th>Age</th>\n",
       "      <th>Gender</th>\n",
       "      <th>Chest_Pain</th>\n",
       "      <th>Cough_Severity</th>\n",
       "      <th>Breathlessness</th>\n",
       "      <th>Fatigue</th>\n",
       "      <th>Weight_Loss</th>\n",
       "      <th>Fever</th>\n",
       "      <th>Night_Sweats</th>\n",
       "      <th>Sputum_Production</th>\n",
       "      <th>Blood_in_Sputum</th>\n",
       "      <th>Smoking_History</th>\n",
       "      <th>Previous_TB_History</th>\n",
       "      <th>Class</th>\n",
       "    </tr>\n",
       "  </thead>\n",
       "  <tbody>\n",
       "    <tr>\n",
       "      <th>0</th>\n",
       "      <td>69</td>\n",
       "      <td>Male</td>\n",
       "      <td>Yes</td>\n",
       "      <td>1</td>\n",
       "      <td>2</td>\n",
       "      <td>3</td>\n",
       "      <td>2.37</td>\n",
       "      <td>Moderate</td>\n",
       "      <td>Yes</td>\n",
       "      <td>Medium</td>\n",
       "      <td>Yes</td>\n",
       "      <td>Former</td>\n",
       "      <td>Yes</td>\n",
       "      <td>Normal</td>\n",
       "    </tr>\n",
       "    <tr>\n",
       "      <th>1</th>\n",
       "      <td>32</td>\n",
       "      <td>Female</td>\n",
       "      <td>Yes</td>\n",
       "      <td>3</td>\n",
       "      <td>0</td>\n",
       "      <td>9</td>\n",
       "      <td>6.09</td>\n",
       "      <td>Moderate</td>\n",
       "      <td>No</td>\n",
       "      <td>Medium</td>\n",
       "      <td>No</td>\n",
       "      <td>Current</td>\n",
       "      <td>Yes</td>\n",
       "      <td>Normal</td>\n",
       "    </tr>\n",
       "    <tr>\n",
       "      <th>2</th>\n",
       "      <td>89</td>\n",
       "      <td>Male</td>\n",
       "      <td>No</td>\n",
       "      <td>7</td>\n",
       "      <td>0</td>\n",
       "      <td>3</td>\n",
       "      <td>2.86</td>\n",
       "      <td>Mild</td>\n",
       "      <td>Yes</td>\n",
       "      <td>Medium</td>\n",
       "      <td>No</td>\n",
       "      <td>Current</td>\n",
       "      <td>No</td>\n",
       "      <td>Tuberculosis</td>\n",
       "    </tr>\n",
       "    <tr>\n",
       "      <th>3</th>\n",
       "      <td>78</td>\n",
       "      <td>Female</td>\n",
       "      <td>Yes</td>\n",
       "      <td>2</td>\n",
       "      <td>0</td>\n",
       "      <td>6</td>\n",
       "      <td>4.57</td>\n",
       "      <td>Moderate</td>\n",
       "      <td>No</td>\n",
       "      <td>High</td>\n",
       "      <td>Yes</td>\n",
       "      <td>Never</td>\n",
       "      <td>Yes</td>\n",
       "      <td>Tuberculosis</td>\n",
       "    </tr>\n",
       "    <tr>\n",
       "      <th>4</th>\n",
       "      <td>38</td>\n",
       "      <td>Male</td>\n",
       "      <td>No</td>\n",
       "      <td>7</td>\n",
       "      <td>2</td>\n",
       "      <td>5</td>\n",
       "      <td>13.86</td>\n",
       "      <td>High</td>\n",
       "      <td>Yes</td>\n",
       "      <td>Low</td>\n",
       "      <td>No</td>\n",
       "      <td>Never</td>\n",
       "      <td>Yes</td>\n",
       "      <td>Tuberculosis</td>\n",
       "    </tr>\n",
       "  </tbody>\n",
       "</table>\n",
       "</div>"
      ],
      "text/plain": [
       "   Age  Gender Chest_Pain  Cough_Severity  Breathlessness  Fatigue  \\\n",
       "0   69    Male        Yes               1               2        3   \n",
       "1   32  Female        Yes               3               0        9   \n",
       "2   89    Male         No               7               0        3   \n",
       "3   78  Female        Yes               2               0        6   \n",
       "4   38    Male         No               7               2        5   \n",
       "\n",
       "   Weight_Loss     Fever Night_Sweats Sputum_Production Blood_in_Sputum  \\\n",
       "0         2.37  Moderate          Yes            Medium             Yes   \n",
       "1         6.09  Moderate           No            Medium              No   \n",
       "2         2.86      Mild          Yes            Medium              No   \n",
       "3         4.57  Moderate           No              High             Yes   \n",
       "4        13.86      High          Yes               Low              No   \n",
       "\n",
       "  Smoking_History Previous_TB_History         Class  \n",
       "0          Former                 Yes        Normal  \n",
       "1         Current                 Yes        Normal  \n",
       "2         Current                  No  Tuberculosis  \n",
       "3           Never                 Yes  Tuberculosis  \n",
       "4           Never                 Yes  Tuberculosis  "
      ]
     },
     "execution_count": 54,
     "metadata": {},
     "output_type": "execute_result"
    }
   ],
   "source": [
    "df=df.drop(['Patient_ID'],axis=1)\n",
    "df.head()"
   ]
  },
  {
   "cell_type": "code",
   "execution_count": 55,
   "metadata": {},
   "outputs": [],
   "source": [
    "label_features = [\"Gender\", \"Smoking_History\", \"Previous_TB_History\", \"Class\",\"Chest_Pain\",\"Night_Sweats\",\"Blood_in_Sputum\"]\n",
    "for col in label_features:\n",
    "    le = LabelEncoder()\n",
    "    df[col] = le.fit_transform(df[col])"
   ]
  },
  {
   "cell_type": "code",
   "execution_count": 56,
   "metadata": {},
   "outputs": [],
   "source": [
    "ordinal_features = [[\"Fever\", \"Sputum_Production\"]]\n",
    "for col in ordinal_features:\n",
    "    ol = OrdinalEncoder()\n",
    "    df[col] = ol.fit_transform(df[col])"
   ]
  },
  {
   "cell_type": "code",
   "execution_count": 57,
   "metadata": {},
   "outputs": [
    {
     "data": {
      "application/vnd.microsoft.datawrangler.viewer.v0+json": {
       "columns": [
        {
         "name": "index",
         "rawType": "int64",
         "type": "integer"
        },
        {
         "name": "Age",
         "rawType": "int64",
         "type": "integer"
        },
        {
         "name": "Gender",
         "rawType": "int64",
         "type": "integer"
        },
        {
         "name": "Chest_Pain",
         "rawType": "int64",
         "type": "integer"
        },
        {
         "name": "Cough_Severity",
         "rawType": "int64",
         "type": "integer"
        },
        {
         "name": "Breathlessness",
         "rawType": "int64",
         "type": "integer"
        },
        {
         "name": "Fatigue",
         "rawType": "int64",
         "type": "integer"
        },
        {
         "name": "Weight_Loss",
         "rawType": "float64",
         "type": "float"
        },
        {
         "name": "Fever",
         "rawType": "float64",
         "type": "float"
        },
        {
         "name": "Night_Sweats",
         "rawType": "int64",
         "type": "integer"
        },
        {
         "name": "Sputum_Production",
         "rawType": "float64",
         "type": "float"
        },
        {
         "name": "Blood_in_Sputum",
         "rawType": "int64",
         "type": "integer"
        },
        {
         "name": "Smoking_History",
         "rawType": "int64",
         "type": "integer"
        },
        {
         "name": "Previous_TB_History",
         "rawType": "int64",
         "type": "integer"
        },
        {
         "name": "Class",
         "rawType": "int64",
         "type": "integer"
        }
       ],
       "conversionMethod": "pd.DataFrame",
       "ref": "0725af50-43f8-4f98-a3d3-79afee40b544",
       "rows": [
        [
         "0",
         "69",
         "1",
         "1",
         "1",
         "2",
         "3",
         "2.37",
         "2.0",
         "1",
         "2.0",
         "1",
         "1",
         "1",
         "0"
        ],
        [
         "1",
         "32",
         "0",
         "1",
         "3",
         "0",
         "9",
         "6.09",
         "2.0",
         "0",
         "2.0",
         "0",
         "0",
         "1",
         "0"
        ],
        [
         "2",
         "89",
         "1",
         "0",
         "7",
         "0",
         "3",
         "2.86",
         "1.0",
         "1",
         "2.0",
         "0",
         "0",
         "0",
         "1"
        ],
        [
         "3",
         "78",
         "0",
         "1",
         "2",
         "0",
         "6",
         "4.57",
         "2.0",
         "0",
         "0.0",
         "1",
         "2",
         "1",
         "1"
        ],
        [
         "4",
         "38",
         "1",
         "0",
         "7",
         "2",
         "5",
         "13.86",
         "0.0",
         "1",
         "1.0",
         "0",
         "2",
         "1",
         "1"
        ]
       ],
       "shape": {
        "columns": 14,
        "rows": 5
       }
      },
      "text/html": [
       "<div>\n",
       "<style scoped>\n",
       "    .dataframe tbody tr th:only-of-type {\n",
       "        vertical-align: middle;\n",
       "    }\n",
       "\n",
       "    .dataframe tbody tr th {\n",
       "        vertical-align: top;\n",
       "    }\n",
       "\n",
       "    .dataframe thead th {\n",
       "        text-align: right;\n",
       "    }\n",
       "</style>\n",
       "<table border=\"1\" class=\"dataframe\">\n",
       "  <thead>\n",
       "    <tr style=\"text-align: right;\">\n",
       "      <th></th>\n",
       "      <th>Age</th>\n",
       "      <th>Gender</th>\n",
       "      <th>Chest_Pain</th>\n",
       "      <th>Cough_Severity</th>\n",
       "      <th>Breathlessness</th>\n",
       "      <th>Fatigue</th>\n",
       "      <th>Weight_Loss</th>\n",
       "      <th>Fever</th>\n",
       "      <th>Night_Sweats</th>\n",
       "      <th>Sputum_Production</th>\n",
       "      <th>Blood_in_Sputum</th>\n",
       "      <th>Smoking_History</th>\n",
       "      <th>Previous_TB_History</th>\n",
       "      <th>Class</th>\n",
       "    </tr>\n",
       "  </thead>\n",
       "  <tbody>\n",
       "    <tr>\n",
       "      <th>0</th>\n",
       "      <td>69</td>\n",
       "      <td>1</td>\n",
       "      <td>1</td>\n",
       "      <td>1</td>\n",
       "      <td>2</td>\n",
       "      <td>3</td>\n",
       "      <td>2.37</td>\n",
       "      <td>2.0</td>\n",
       "      <td>1</td>\n",
       "      <td>2.0</td>\n",
       "      <td>1</td>\n",
       "      <td>1</td>\n",
       "      <td>1</td>\n",
       "      <td>0</td>\n",
       "    </tr>\n",
       "    <tr>\n",
       "      <th>1</th>\n",
       "      <td>32</td>\n",
       "      <td>0</td>\n",
       "      <td>1</td>\n",
       "      <td>3</td>\n",
       "      <td>0</td>\n",
       "      <td>9</td>\n",
       "      <td>6.09</td>\n",
       "      <td>2.0</td>\n",
       "      <td>0</td>\n",
       "      <td>2.0</td>\n",
       "      <td>0</td>\n",
       "      <td>0</td>\n",
       "      <td>1</td>\n",
       "      <td>0</td>\n",
       "    </tr>\n",
       "    <tr>\n",
       "      <th>2</th>\n",
       "      <td>89</td>\n",
       "      <td>1</td>\n",
       "      <td>0</td>\n",
       "      <td>7</td>\n",
       "      <td>0</td>\n",
       "      <td>3</td>\n",
       "      <td>2.86</td>\n",
       "      <td>1.0</td>\n",
       "      <td>1</td>\n",
       "      <td>2.0</td>\n",
       "      <td>0</td>\n",
       "      <td>0</td>\n",
       "      <td>0</td>\n",
       "      <td>1</td>\n",
       "    </tr>\n",
       "    <tr>\n",
       "      <th>3</th>\n",
       "      <td>78</td>\n",
       "      <td>0</td>\n",
       "      <td>1</td>\n",
       "      <td>2</td>\n",
       "      <td>0</td>\n",
       "      <td>6</td>\n",
       "      <td>4.57</td>\n",
       "      <td>2.0</td>\n",
       "      <td>0</td>\n",
       "      <td>0.0</td>\n",
       "      <td>1</td>\n",
       "      <td>2</td>\n",
       "      <td>1</td>\n",
       "      <td>1</td>\n",
       "    </tr>\n",
       "    <tr>\n",
       "      <th>4</th>\n",
       "      <td>38</td>\n",
       "      <td>1</td>\n",
       "      <td>0</td>\n",
       "      <td>7</td>\n",
       "      <td>2</td>\n",
       "      <td>5</td>\n",
       "      <td>13.86</td>\n",
       "      <td>0.0</td>\n",
       "      <td>1</td>\n",
       "      <td>1.0</td>\n",
       "      <td>0</td>\n",
       "      <td>2</td>\n",
       "      <td>1</td>\n",
       "      <td>1</td>\n",
       "    </tr>\n",
       "  </tbody>\n",
       "</table>\n",
       "</div>"
      ],
      "text/plain": [
       "   Age  Gender  Chest_Pain  Cough_Severity  Breathlessness  Fatigue  \\\n",
       "0   69       1           1               1               2        3   \n",
       "1   32       0           1               3               0        9   \n",
       "2   89       1           0               7               0        3   \n",
       "3   78       0           1               2               0        6   \n",
       "4   38       1           0               7               2        5   \n",
       "\n",
       "   Weight_Loss  Fever  Night_Sweats  Sputum_Production  Blood_in_Sputum  \\\n",
       "0         2.37    2.0             1                2.0                1   \n",
       "1         6.09    2.0             0                2.0                0   \n",
       "2         2.86    1.0             1                2.0                0   \n",
       "3         4.57    2.0             0                0.0                1   \n",
       "4        13.86    0.0             1                1.0                0   \n",
       "\n",
       "   Smoking_History  Previous_TB_History  Class  \n",
       "0                1                    1      0  \n",
       "1                0                    1      0  \n",
       "2                0                    0      1  \n",
       "3                2                    1      1  \n",
       "4                2                    1      1  "
      ]
     },
     "execution_count": 57,
     "metadata": {},
     "output_type": "execute_result"
    }
   ],
   "source": [
    "df.head()"
   ]
  },
  {
   "cell_type": "markdown",
   "metadata": {},
   "source": [
    "# Modelling"
   ]
  },
  {
   "cell_type": "code",
   "execution_count": 58,
   "metadata": {},
   "outputs": [],
   "source": [
    "x=df.drop('Class',axis=1)\n",
    "y=df['Class']"
   ]
  },
  {
   "cell_type": "code",
   "execution_count": 59,
   "metadata": {},
   "outputs": [],
   "source": [
    "x_train,x_test,y_train,y_test=train_test_split(x,y,test_size=0.2,random_state=42)"
   ]
  },
  {
   "cell_type": "code",
   "execution_count": 60,
   "metadata": {},
   "outputs": [],
   "source": [
    "models = {\n",
    "    'LogisticRegression': LogisticRegression(),\n",
    "    'DecisionTree': DecisionTreeClassifier(),\n",
    "    'RandomForest': RandomForestClassifier(),\n",
    "    'KNN': KNeighborsClassifier(),\n",
    "    'SVM': SVC(),  \n",
    "    'NaiveBayes': GaussianNB(),\n",
    "}"
   ]
  },
  {
   "cell_type": "code",
   "execution_count": 61,
   "metadata": {},
   "outputs": [
    {
     "name": "stdout",
     "output_type": "stream",
     "text": [
      "                Model  Accuracy  Precision   Recall  F1-Score\n",
      "0  LogisticRegression   0.69650   0.485112  0.69650  0.571898\n",
      "1        DecisionTree   0.55925   0.565396  0.55925  0.562212\n",
      "2        RandomForest   0.69250   0.555560  0.69250  0.573111\n",
      "3                 KNN   0.62975   0.568377  0.62975  0.587091\n",
      "4                 SVM   0.69650   0.485112  0.69650  0.571898\n",
      "5          NaiveBayes   0.69650   0.485112  0.69650  0.571898\n"
     ]
    }
   ],
   "source": [
    "results = {'Model': [], 'Accuracy': [], 'Precision': [], 'Recall': [], 'F1-Score': []}\n",
    "\n",
    "\n",
    "for i in models:\n",
    "    obj = models[i]\n",
    "    obj.fit(x_train, y_train)\n",
    "    obj_pred = obj.predict(x_test)\n",
    "\n",
    " \n",
    "    accuracy = accuracy_score(y_test, obj_pred>0.5,)\n",
    "    precision = precision_score(y_test, obj_pred>0.5,average='weighted')\n",
    "    recall = recall_score(y_test, obj_pred>0.5,average='weighted')\n",
    "    f1 = f1_score(y_test, obj_pred>0.5,average='weighted')\n",
    "\n",
    "  \n",
    "    results['Model'].append(i)\n",
    "    results['Accuracy'].append(accuracy)\n",
    "    results['Precision'].append(precision)\n",
    "    results['Recall'].append(recall)\n",
    "    results['F1-Score'].append(f1)\n",
    "\n",
    "\n",
    "results_df = pd.DataFrame(results)\n",
    "\n",
    "\n",
    "print(results_df)"
   ]
  }
 ],
 "metadata": {
  "kernelspec": {
   "display_name": ".venv",
   "language": "python",
   "name": "python3"
  },
  "language_info": {
   "codemirror_mode": {
    "name": "ipython",
    "version": 3
   },
   "file_extension": ".py",
   "mimetype": "text/x-python",
   "name": "python",
   "nbconvert_exporter": "python",
   "pygments_lexer": "ipython3",
   "version": "3.13.0"
  }
 },
 "nbformat": 4,
 "nbformat_minor": 2
}
