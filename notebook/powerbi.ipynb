{
 "cells": [
  {
   "cell_type": "code",
   "execution_count": 3,
   "metadata": {},
   "outputs": [],
   "source": [
    "import pandas as pd\n",
    "import numpy as np\n",
    "import matplotlib.pyplot as plt\n",
    "import seaborn as sns"
   ]
  },
  {
   "cell_type": "code",
   "execution_count": 4,
   "metadata": {},
   "outputs": [],
   "source": [
    "df = pd.read_csv('C:/Users/mitev/Desktop/Prácticas/tuberculosis_proyect/dataset/tuberculosis_xray_dataset.csv')"
   ]
  },
  {
   "cell_type": "code",
   "execution_count": 5,
   "metadata": {},
   "outputs": [
    {
     "data": {
      "application/vnd.microsoft.datawrangler.viewer.v0+json": {
       "columns": [
        {
         "name": "index",
         "rawType": "int64",
         "type": "integer"
        },
        {
         "name": "Patient_ID",
         "rawType": "object",
         "type": "string"
        },
        {
         "name": "Age",
         "rawType": "int64",
         "type": "integer"
        },
        {
         "name": "Gender",
         "rawType": "object",
         "type": "string"
        },
        {
         "name": "Chest_Pain",
         "rawType": "object",
         "type": "string"
        },
        {
         "name": "Cough_Severity",
         "rawType": "int64",
         "type": "integer"
        },
        {
         "name": "Breathlessness",
         "rawType": "int64",
         "type": "integer"
        },
        {
         "name": "Fatigue",
         "rawType": "int64",
         "type": "integer"
        },
        {
         "name": "Weight_Loss",
         "rawType": "float64",
         "type": "float"
        },
        {
         "name": "Fever",
         "rawType": "object",
         "type": "string"
        },
        {
         "name": "Night_Sweats",
         "rawType": "object",
         "type": "string"
        },
        {
         "name": "Sputum_Production",
         "rawType": "object",
         "type": "string"
        },
        {
         "name": "Blood_in_Sputum",
         "rawType": "object",
         "type": "string"
        },
        {
         "name": "Smoking_History",
         "rawType": "object",
         "type": "string"
        },
        {
         "name": "Previous_TB_History",
         "rawType": "object",
         "type": "string"
        },
        {
         "name": "Class",
         "rawType": "object",
         "type": "string"
        }
       ],
       "conversionMethod": "pd.DataFrame",
       "ref": "e3a492d0-5b13-4784-b70c-ab83286fd48a",
       "rows": [
        [
         "0",
         "PID000001",
         "69",
         "Male",
         "Yes",
         "1",
         "2",
         "3",
         "2.37",
         "Moderate",
         "Yes",
         "Medium",
         "Yes",
         "Former",
         "Yes",
         "Normal"
        ],
        [
         "1",
         "PID000002",
         "32",
         "Female",
         "Yes",
         "3",
         "0",
         "9",
         "6.09",
         "Moderate",
         "No",
         "Medium",
         "No",
         "Current",
         "Yes",
         "Normal"
        ],
        [
         "2",
         "PID000003",
         "89",
         "Male",
         "No",
         "7",
         "0",
         "3",
         "2.86",
         "Mild",
         "Yes",
         "Medium",
         "No",
         "Current",
         "No",
         "Tuberculosis"
        ],
        [
         "3",
         "PID000004",
         "78",
         "Female",
         "Yes",
         "2",
         "0",
         "6",
         "4.57",
         "Moderate",
         "No",
         "High",
         "Yes",
         "Never",
         "Yes",
         "Tuberculosis"
        ],
        [
         "4",
         "PID000005",
         "38",
         "Male",
         "No",
         "7",
         "2",
         "5",
         "13.86",
         "High",
         "Yes",
         "Low",
         "No",
         "Never",
         "Yes",
         "Tuberculosis"
        ]
       ],
       "shape": {
        "columns": 15,
        "rows": 5
       }
      },
      "text/html": [
       "<div>\n",
       "<style scoped>\n",
       "    .dataframe tbody tr th:only-of-type {\n",
       "        vertical-align: middle;\n",
       "    }\n",
       "\n",
       "    .dataframe tbody tr th {\n",
       "        vertical-align: top;\n",
       "    }\n",
       "\n",
       "    .dataframe thead th {\n",
       "        text-align: right;\n",
       "    }\n",
       "</style>\n",
       "<table border=\"1\" class=\"dataframe\">\n",
       "  <thead>\n",
       "    <tr style=\"text-align: right;\">\n",
       "      <th></th>\n",
       "      <th>Patient_ID</th>\n",
       "      <th>Age</th>\n",
       "      <th>Gender</th>\n",
       "      <th>Chest_Pain</th>\n",
       "      <th>Cough_Severity</th>\n",
       "      <th>Breathlessness</th>\n",
       "      <th>Fatigue</th>\n",
       "      <th>Weight_Loss</th>\n",
       "      <th>Fever</th>\n",
       "      <th>Night_Sweats</th>\n",
       "      <th>Sputum_Production</th>\n",
       "      <th>Blood_in_Sputum</th>\n",
       "      <th>Smoking_History</th>\n",
       "      <th>Previous_TB_History</th>\n",
       "      <th>Class</th>\n",
       "    </tr>\n",
       "  </thead>\n",
       "  <tbody>\n",
       "    <tr>\n",
       "      <th>0</th>\n",
       "      <td>PID000001</td>\n",
       "      <td>69</td>\n",
       "      <td>Male</td>\n",
       "      <td>Yes</td>\n",
       "      <td>1</td>\n",
       "      <td>2</td>\n",
       "      <td>3</td>\n",
       "      <td>2.37</td>\n",
       "      <td>Moderate</td>\n",
       "      <td>Yes</td>\n",
       "      <td>Medium</td>\n",
       "      <td>Yes</td>\n",
       "      <td>Former</td>\n",
       "      <td>Yes</td>\n",
       "      <td>Normal</td>\n",
       "    </tr>\n",
       "    <tr>\n",
       "      <th>1</th>\n",
       "      <td>PID000002</td>\n",
       "      <td>32</td>\n",
       "      <td>Female</td>\n",
       "      <td>Yes</td>\n",
       "      <td>3</td>\n",
       "      <td>0</td>\n",
       "      <td>9</td>\n",
       "      <td>6.09</td>\n",
       "      <td>Moderate</td>\n",
       "      <td>No</td>\n",
       "      <td>Medium</td>\n",
       "      <td>No</td>\n",
       "      <td>Current</td>\n",
       "      <td>Yes</td>\n",
       "      <td>Normal</td>\n",
       "    </tr>\n",
       "    <tr>\n",
       "      <th>2</th>\n",
       "      <td>PID000003</td>\n",
       "      <td>89</td>\n",
       "      <td>Male</td>\n",
       "      <td>No</td>\n",
       "      <td>7</td>\n",
       "      <td>0</td>\n",
       "      <td>3</td>\n",
       "      <td>2.86</td>\n",
       "      <td>Mild</td>\n",
       "      <td>Yes</td>\n",
       "      <td>Medium</td>\n",
       "      <td>No</td>\n",
       "      <td>Current</td>\n",
       "      <td>No</td>\n",
       "      <td>Tuberculosis</td>\n",
       "    </tr>\n",
       "    <tr>\n",
       "      <th>3</th>\n",
       "      <td>PID000004</td>\n",
       "      <td>78</td>\n",
       "      <td>Female</td>\n",
       "      <td>Yes</td>\n",
       "      <td>2</td>\n",
       "      <td>0</td>\n",
       "      <td>6</td>\n",
       "      <td>4.57</td>\n",
       "      <td>Moderate</td>\n",
       "      <td>No</td>\n",
       "      <td>High</td>\n",
       "      <td>Yes</td>\n",
       "      <td>Never</td>\n",
       "      <td>Yes</td>\n",
       "      <td>Tuberculosis</td>\n",
       "    </tr>\n",
       "    <tr>\n",
       "      <th>4</th>\n",
       "      <td>PID000005</td>\n",
       "      <td>38</td>\n",
       "      <td>Male</td>\n",
       "      <td>No</td>\n",
       "      <td>7</td>\n",
       "      <td>2</td>\n",
       "      <td>5</td>\n",
       "      <td>13.86</td>\n",
       "      <td>High</td>\n",
       "      <td>Yes</td>\n",
       "      <td>Low</td>\n",
       "      <td>No</td>\n",
       "      <td>Never</td>\n",
       "      <td>Yes</td>\n",
       "      <td>Tuberculosis</td>\n",
       "    </tr>\n",
       "  </tbody>\n",
       "</table>\n",
       "</div>"
      ],
      "text/plain": [
       "  Patient_ID  Age  Gender Chest_Pain  Cough_Severity  Breathlessness  Fatigue  \\\n",
       "0  PID000001   69    Male        Yes               1               2        3   \n",
       "1  PID000002   32  Female        Yes               3               0        9   \n",
       "2  PID000003   89    Male         No               7               0        3   \n",
       "3  PID000004   78  Female        Yes               2               0        6   \n",
       "4  PID000005   38    Male         No               7               2        5   \n",
       "\n",
       "   Weight_Loss     Fever Night_Sweats Sputum_Production Blood_in_Sputum  \\\n",
       "0         2.37  Moderate          Yes            Medium             Yes   \n",
       "1         6.09  Moderate           No            Medium              No   \n",
       "2         2.86      Mild          Yes            Medium              No   \n",
       "3         4.57  Moderate           No              High             Yes   \n",
       "4        13.86      High          Yes               Low              No   \n",
       "\n",
       "  Smoking_History Previous_TB_History         Class  \n",
       "0          Former                 Yes        Normal  \n",
       "1         Current                 Yes        Normal  \n",
       "2         Current                  No  Tuberculosis  \n",
       "3           Never                 Yes  Tuberculosis  \n",
       "4           Never                 Yes  Tuberculosis  "
      ]
     },
     "execution_count": 5,
     "metadata": {},
     "output_type": "execute_result"
    }
   ],
   "source": [
    "df.head()"
   ]
  },
  {
   "cell_type": "code",
   "execution_count": 6,
   "metadata": {},
   "outputs": [],
   "source": [
    "# Lista de columnas que quieres formatear\n",
    "cols_with_decimals = [\"Weight_Loss\"]  # puedes añadir más columnas aquí\n",
    "\n",
    "# Convertir los valores a string con coma como separador decimal\n",
    "for col in cols_with_decimals:\n",
    "    df[col] = df[col].apply(lambda x: f\"{x:.2f}\".replace('.', ','))\n"
   ]
  },
  {
   "cell_type": "code",
   "execution_count": 7,
   "metadata": {},
   "outputs": [
    {
     "data": {
      "application/vnd.microsoft.datawrangler.viewer.v0+json": {
       "columns": [
        {
         "name": "index",
         "rawType": "int64",
         "type": "integer"
        },
        {
         "name": "Patient_ID",
         "rawType": "object",
         "type": "string"
        },
        {
         "name": "Age",
         "rawType": "int64",
         "type": "integer"
        },
        {
         "name": "Gender",
         "rawType": "object",
         "type": "string"
        },
        {
         "name": "Chest_Pain",
         "rawType": "object",
         "type": "string"
        },
        {
         "name": "Cough_Severity",
         "rawType": "int64",
         "type": "integer"
        },
        {
         "name": "Breathlessness",
         "rawType": "int64",
         "type": "integer"
        },
        {
         "name": "Fatigue",
         "rawType": "int64",
         "type": "integer"
        },
        {
         "name": "Weight_Loss",
         "rawType": "object",
         "type": "string"
        },
        {
         "name": "Fever",
         "rawType": "object",
         "type": "string"
        },
        {
         "name": "Night_Sweats",
         "rawType": "object",
         "type": "string"
        },
        {
         "name": "Sputum_Production",
         "rawType": "object",
         "type": "string"
        },
        {
         "name": "Blood_in_Sputum",
         "rawType": "object",
         "type": "string"
        },
        {
         "name": "Smoking_History",
         "rawType": "object",
         "type": "string"
        },
        {
         "name": "Previous_TB_History",
         "rawType": "object",
         "type": "string"
        },
        {
         "name": "Class",
         "rawType": "object",
         "type": "string"
        }
       ],
       "conversionMethod": "pd.DataFrame",
       "ref": "ef7372c8-ec11-4d18-846a-d7dfc4f9a6d6",
       "rows": [
        [
         "0",
         "PID000001",
         "69",
         "Male",
         "Yes",
         "1",
         "2",
         "3",
         "2,37",
         "Moderate",
         "Yes",
         "Medium",
         "Yes",
         "Former",
         "Yes",
         "Normal"
        ],
        [
         "1",
         "PID000002",
         "32",
         "Female",
         "Yes",
         "3",
         "0",
         "9",
         "6,09",
         "Moderate",
         "No",
         "Medium",
         "No",
         "Current",
         "Yes",
         "Normal"
        ],
        [
         "2",
         "PID000003",
         "89",
         "Male",
         "No",
         "7",
         "0",
         "3",
         "2,86",
         "Mild",
         "Yes",
         "Medium",
         "No",
         "Current",
         "No",
         "Tuberculosis"
        ],
        [
         "3",
         "PID000004",
         "78",
         "Female",
         "Yes",
         "2",
         "0",
         "6",
         "4,57",
         "Moderate",
         "No",
         "High",
         "Yes",
         "Never",
         "Yes",
         "Tuberculosis"
        ],
        [
         "4",
         "PID000005",
         "38",
         "Male",
         "No",
         "7",
         "2",
         "5",
         "13,86",
         "High",
         "Yes",
         "Low",
         "No",
         "Never",
         "Yes",
         "Tuberculosis"
        ]
       ],
       "shape": {
        "columns": 15,
        "rows": 5
       }
      },
      "text/html": [
       "<div>\n",
       "<style scoped>\n",
       "    .dataframe tbody tr th:only-of-type {\n",
       "        vertical-align: middle;\n",
       "    }\n",
       "\n",
       "    .dataframe tbody tr th {\n",
       "        vertical-align: top;\n",
       "    }\n",
       "\n",
       "    .dataframe thead th {\n",
       "        text-align: right;\n",
       "    }\n",
       "</style>\n",
       "<table border=\"1\" class=\"dataframe\">\n",
       "  <thead>\n",
       "    <tr style=\"text-align: right;\">\n",
       "      <th></th>\n",
       "      <th>Patient_ID</th>\n",
       "      <th>Age</th>\n",
       "      <th>Gender</th>\n",
       "      <th>Chest_Pain</th>\n",
       "      <th>Cough_Severity</th>\n",
       "      <th>Breathlessness</th>\n",
       "      <th>Fatigue</th>\n",
       "      <th>Weight_Loss</th>\n",
       "      <th>Fever</th>\n",
       "      <th>Night_Sweats</th>\n",
       "      <th>Sputum_Production</th>\n",
       "      <th>Blood_in_Sputum</th>\n",
       "      <th>Smoking_History</th>\n",
       "      <th>Previous_TB_History</th>\n",
       "      <th>Class</th>\n",
       "    </tr>\n",
       "  </thead>\n",
       "  <tbody>\n",
       "    <tr>\n",
       "      <th>0</th>\n",
       "      <td>PID000001</td>\n",
       "      <td>69</td>\n",
       "      <td>Male</td>\n",
       "      <td>Yes</td>\n",
       "      <td>1</td>\n",
       "      <td>2</td>\n",
       "      <td>3</td>\n",
       "      <td>2,37</td>\n",
       "      <td>Moderate</td>\n",
       "      <td>Yes</td>\n",
       "      <td>Medium</td>\n",
       "      <td>Yes</td>\n",
       "      <td>Former</td>\n",
       "      <td>Yes</td>\n",
       "      <td>Normal</td>\n",
       "    </tr>\n",
       "    <tr>\n",
       "      <th>1</th>\n",
       "      <td>PID000002</td>\n",
       "      <td>32</td>\n",
       "      <td>Female</td>\n",
       "      <td>Yes</td>\n",
       "      <td>3</td>\n",
       "      <td>0</td>\n",
       "      <td>9</td>\n",
       "      <td>6,09</td>\n",
       "      <td>Moderate</td>\n",
       "      <td>No</td>\n",
       "      <td>Medium</td>\n",
       "      <td>No</td>\n",
       "      <td>Current</td>\n",
       "      <td>Yes</td>\n",
       "      <td>Normal</td>\n",
       "    </tr>\n",
       "    <tr>\n",
       "      <th>2</th>\n",
       "      <td>PID000003</td>\n",
       "      <td>89</td>\n",
       "      <td>Male</td>\n",
       "      <td>No</td>\n",
       "      <td>7</td>\n",
       "      <td>0</td>\n",
       "      <td>3</td>\n",
       "      <td>2,86</td>\n",
       "      <td>Mild</td>\n",
       "      <td>Yes</td>\n",
       "      <td>Medium</td>\n",
       "      <td>No</td>\n",
       "      <td>Current</td>\n",
       "      <td>No</td>\n",
       "      <td>Tuberculosis</td>\n",
       "    </tr>\n",
       "    <tr>\n",
       "      <th>3</th>\n",
       "      <td>PID000004</td>\n",
       "      <td>78</td>\n",
       "      <td>Female</td>\n",
       "      <td>Yes</td>\n",
       "      <td>2</td>\n",
       "      <td>0</td>\n",
       "      <td>6</td>\n",
       "      <td>4,57</td>\n",
       "      <td>Moderate</td>\n",
       "      <td>No</td>\n",
       "      <td>High</td>\n",
       "      <td>Yes</td>\n",
       "      <td>Never</td>\n",
       "      <td>Yes</td>\n",
       "      <td>Tuberculosis</td>\n",
       "    </tr>\n",
       "    <tr>\n",
       "      <th>4</th>\n",
       "      <td>PID000005</td>\n",
       "      <td>38</td>\n",
       "      <td>Male</td>\n",
       "      <td>No</td>\n",
       "      <td>7</td>\n",
       "      <td>2</td>\n",
       "      <td>5</td>\n",
       "      <td>13,86</td>\n",
       "      <td>High</td>\n",
       "      <td>Yes</td>\n",
       "      <td>Low</td>\n",
       "      <td>No</td>\n",
       "      <td>Never</td>\n",
       "      <td>Yes</td>\n",
       "      <td>Tuberculosis</td>\n",
       "    </tr>\n",
       "  </tbody>\n",
       "</table>\n",
       "</div>"
      ],
      "text/plain": [
       "  Patient_ID  Age  Gender Chest_Pain  Cough_Severity  Breathlessness  Fatigue  \\\n",
       "0  PID000001   69    Male        Yes               1               2        3   \n",
       "1  PID000002   32  Female        Yes               3               0        9   \n",
       "2  PID000003   89    Male         No               7               0        3   \n",
       "3  PID000004   78  Female        Yes               2               0        6   \n",
       "4  PID000005   38    Male         No               7               2        5   \n",
       "\n",
       "  Weight_Loss     Fever Night_Sweats Sputum_Production Blood_in_Sputum  \\\n",
       "0        2,37  Moderate          Yes            Medium             Yes   \n",
       "1        6,09  Moderate           No            Medium              No   \n",
       "2        2,86      Mild          Yes            Medium              No   \n",
       "3        4,57  Moderate           No              High             Yes   \n",
       "4       13,86      High          Yes               Low              No   \n",
       "\n",
       "  Smoking_History Previous_TB_History         Class  \n",
       "0          Former                 Yes        Normal  \n",
       "1         Current                 Yes        Normal  \n",
       "2         Current                  No  Tuberculosis  \n",
       "3           Never                 Yes  Tuberculosis  \n",
       "4           Never                 Yes  Tuberculosis  "
      ]
     },
     "execution_count": 7,
     "metadata": {},
     "output_type": "execute_result"
    }
   ],
   "source": [
    "df.head()"
   ]
  },
  {
   "cell_type": "code",
   "execution_count": 8,
   "metadata": {},
   "outputs": [],
   "source": [
    "# Guardar el DataFrame en un archivo CSV con codificación UTF-8\n",
    "df.to_csv(\"tuberculosis_xray_preparado.csv\", index=False, encoding=\"utf-8\")"
   ]
  },
  {
   "cell_type": "code",
   "execution_count": null,
   "metadata": {},
   "outputs": [],
   "source": []
  }
 ],
 "metadata": {
  "kernelspec": {
   "display_name": ".venv",
   "language": "python",
   "name": "python3"
  },
  "language_info": {
   "codemirror_mode": {
    "name": "ipython",
    "version": 3
   },
   "file_extension": ".py",
   "mimetype": "text/x-python",
   "name": "python",
   "nbconvert_exporter": "python",
   "pygments_lexer": "ipython3",
   "version": "3.13.0"
  }
 },
 "nbformat": 4,
 "nbformat_minor": 2
}
